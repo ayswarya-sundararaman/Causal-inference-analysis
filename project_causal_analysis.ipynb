{
 "cells": [
  {
   "cell_type": "code",
   "execution_count": 20,
   "metadata": {
    "id": "A2I5CEa0cwB3"
   },
   "outputs": [],
   "source": [
    "import pandas as pd\n",
    "import numpy as np\n",
    "\n",
    "from sklearn.ensemble import RandomForestClassifier\n",
    "from sklearn.model_selection import train_test_split\n",
    "from sklearn.preprocessing import MinMaxScaler, OneHotEncoder\n",
    "from sklearn.neighbors import KNeighborsClassifier\n",
    "\n",
    "import itertools\n",
    "\n",
    "from matplotlib import pyplot as plt\n"
   ]
  },
  {
   "cell_type": "code",
   "execution_count": 21,
   "metadata": {
    "colab": {
     "base_uri": "https://localhost:8080/",
     "height": 402
    },
    "id": "9w81NrWkeUMw",
    "outputId": "512063b6-6f6d-4a3c-cd4f-070e124b61ff"
   },
   "outputs": [
    {
     "data": {
      "text/html": [
       "<div>\n",
       "<style scoped>\n",
       "    .dataframe tbody tr th:only-of-type {\n",
       "        vertical-align: middle;\n",
       "    }\n",
       "\n",
       "    .dataframe tbody tr th {\n",
       "        vertical-align: top;\n",
       "    }\n",
       "\n",
       "    .dataframe thead th {\n",
       "        text-align: right;\n",
       "    }\n",
       "</style>\n",
       "<table border=\"1\" class=\"dataframe\">\n",
       "  <thead>\n",
       "    <tr style=\"text-align: right;\">\n",
       "      <th></th>\n",
       "      <th>arms_category</th>\n",
       "      <th>race</th>\n",
       "      <th>threat_level</th>\n",
       "      <th>body_camera</th>\n",
       "      <th>manner_of_death</th>\n",
       "    </tr>\n",
       "  </thead>\n",
       "  <tbody>\n",
       "    <tr>\n",
       "      <th>0</th>\n",
       "      <td>3</td>\n",
       "      <td>0</td>\n",
       "      <td>0</td>\n",
       "      <td>0</td>\n",
       "      <td>0</td>\n",
       "    </tr>\n",
       "    <tr>\n",
       "      <th>1</th>\n",
       "      <td>3</td>\n",
       "      <td>5</td>\n",
       "      <td>0</td>\n",
       "      <td>0</td>\n",
       "      <td>0</td>\n",
       "    </tr>\n",
       "    <tr>\n",
       "      <th>2</th>\n",
       "      <td>9</td>\n",
       "      <td>2</td>\n",
       "      <td>1</td>\n",
       "      <td>0</td>\n",
       "      <td>1</td>\n",
       "    </tr>\n",
       "    <tr>\n",
       "      <th>3</th>\n",
       "      <td>6</td>\n",
       "      <td>5</td>\n",
       "      <td>0</td>\n",
       "      <td>0</td>\n",
       "      <td>0</td>\n",
       "    </tr>\n",
       "    <tr>\n",
       "      <th>4</th>\n",
       "      <td>7</td>\n",
       "      <td>2</td>\n",
       "      <td>0</td>\n",
       "      <td>0</td>\n",
       "      <td>0</td>\n",
       "    </tr>\n",
       "    <tr>\n",
       "      <th>...</th>\n",
       "      <td>...</td>\n",
       "      <td>...</td>\n",
       "      <td>...</td>\n",
       "      <td>...</td>\n",
       "      <td>...</td>\n",
       "    </tr>\n",
       "    <tr>\n",
       "      <th>4890</th>\n",
       "      <td>1</td>\n",
       "      <td>1</td>\n",
       "      <td>0</td>\n",
       "      <td>1</td>\n",
       "      <td>0</td>\n",
       "    </tr>\n",
       "    <tr>\n",
       "      <th>4891</th>\n",
       "      <td>3</td>\n",
       "      <td>1</td>\n",
       "      <td>0</td>\n",
       "      <td>0</td>\n",
       "      <td>0</td>\n",
       "    </tr>\n",
       "    <tr>\n",
       "      <th>4892</th>\n",
       "      <td>9</td>\n",
       "      <td>5</td>\n",
       "      <td>1</td>\n",
       "      <td>0</td>\n",
       "      <td>0</td>\n",
       "    </tr>\n",
       "    <tr>\n",
       "      <th>4893</th>\n",
       "      <td>3</td>\n",
       "      <td>5</td>\n",
       "      <td>1</td>\n",
       "      <td>0</td>\n",
       "      <td>0</td>\n",
       "    </tr>\n",
       "    <tr>\n",
       "      <th>4894</th>\n",
       "      <td>3</td>\n",
       "      <td>5</td>\n",
       "      <td>0</td>\n",
       "      <td>0</td>\n",
       "      <td>0</td>\n",
       "    </tr>\n",
       "  </tbody>\n",
       "</table>\n",
       "<p>4895 rows × 5 columns</p>\n",
       "</div>"
      ],
      "text/plain": [
       "      arms_category  race  threat_level  body_camera  manner_of_death\n",
       "0                 3     0             0            0                0\n",
       "1                 3     5             0            0                0\n",
       "2                 9     2             1            0                1\n",
       "3                 6     5             0            0                0\n",
       "4                 7     2             0            0                0\n",
       "...             ...   ...           ...          ...              ...\n",
       "4890              1     1             0            1                0\n",
       "4891              3     1             0            0                0\n",
       "4892              9     5             1            0                0\n",
       "4893              3     5             1            0                0\n",
       "4894              3     5             0            0                0\n",
       "\n",
       "[4895 rows x 5 columns]"
      ]
     },
     "execution_count": 21,
     "metadata": {
      "tags": []
     },
     "output_type": "execute_result"
    }
   ],
   "source": [
    "file_name = 'shootings.csv'\n",
    "\n",
    "df = pd.read_csv(file_name)\n",
    "df = df.drop(columns=['id', 'name', 'date'])\n",
    "\n",
    "categorial_features = set(df.columns) - set(['age', 'body_camera', 'manner_of_death'])\n",
    "categorial_features\n",
    "\n",
    "complete = df.copy()\n",
    "\n",
    "for feature in categorial_features:\n",
    "    df[feature] = df[feature].astype('category').cat.codes\n",
    "\n",
    "df['manner_of_death'] = df['manner_of_death'].map({'shot': 0, 'shot and Tasered': 1})\n",
    "df['body_camera'] = df['body_camera'].map({False: 0, True: 1})\n",
    "\n",
    "T = 'body_camera'\n",
    "target_feature = 'manner_of_death'\n",
    "\n",
    "features_to_adjust = ['arms_category', 'race', 'threat_level']\n",
    "df = df[features_to_adjust + [T, target_feature]]\n",
    "df"
   ]
  },
  {
   "cell_type": "code",
   "execution_count": 22,
   "metadata": {
    "id": "iwf_Rhdngohf"
   },
   "outputs": [],
   "source": [
    "def plot_hist(df, feature):\n",
    "    df[feature].value_counts().plot(kind='bar').set_title(feature)"
   ]
  },
  {
   "cell_type": "code",
   "execution_count": 23,
   "metadata": {
    "colab": {
     "base_uri": "https://localhost:8080/",
     "height": 297
    },
    "id": "GuLcT8DcfHNn",
    "outputId": "695a4f25-3445-4816-ac69-eb747b5f4e83"
   },
   "outputs": [
    {
     "data": {
      "image/png": "[encoded data removed]",
      "text/plain": [
       "<Figure size 432x288 with 1 Axes>"
      ]
     },
     "metadata": {
      "needs_background": "light",
      "tags": []
     },
     "output_type": "display_data"
    }
   ],
   "source": [
    "# plot_hist(complete, 'race')\n",
    "# plot_hist(complete, 'arms_category')\n",
    "# plot_hist(complete, 'threat_level')\n",
    "# plot_hist(complete, target_feature)\n",
    "plot_hist(complete, T)"
   ]
  },
  {
   "cell_type": "code",
   "execution_count": 24,
   "metadata": {
    "colab": {
     "base_uri": "https://localhost:8080/"
    },
    "id": "cNwnO4ROb0v6",
    "outputId": "552fdc73-ebf6-4054-a5d4-dcb437406ff1"
   },
   "outputs": [
    {
     "name": "stdout",
     "output_type": "stream",
     "text": [
      "0.013175560049470465\n"
     ]
    }
   ],
   "source": [
    "ATE = {}\n",
    "\n",
    "treated_outcome = np.mean(df[df[T] == 1][target_feature])\n",
    "control_outcome = np.mean(df[df[T] == 0][target_feature])\n",
    "\n",
    "naive_ATE = treated_outcome - control_outcome\n",
    "ATE['naive'] = naive_ATE\n",
    "print(naive_ATE)"
   ]
  },
  {
   "cell_type": "code",
   "execution_count": 25,
   "metadata": {
    "id": "uZDuFzCigqXI"
   },
   "outputs": [],
   "source": [
    "def evaluate(X, y, extra=\"\"):\n",
    "    # Testing the model\n",
    "    X_train, X_test, y_train, y_test = train_test_split(X, y, test_size=0.2, random_state=42)\n",
    "\n",
    "    dt = RandomForestClassifier(max_depth = 20, random_state=123)\n",
    "    dt.fit(X_train, y_train)\n",
    "    y_pred = dt.predict(X_train)\n",
    "    print(f'{extra} Train error: {np.mean((y_train-y_pred)**2)}')\n",
    "\n",
    "    y_pred = dt.predict(X_test)\n",
    "    print(f'{extra} Test error: {np.mean((y_test-y_pred)**2)}')"
   ]
  },
  {
   "cell_type": "code",
   "execution_count": 26,
   "metadata": {
    "id": "A9D5lAWCVlXK"
   },
   "outputs": [],
   "source": [
    "def get_data(df, T):\n",
    "    curr_df = df.copy()\n",
    "    T_ = curr_df[T]\n",
    "    treated = curr_df[curr_df[T] == 1]\n",
    "    control = curr_df[curr_df[T] == 0]\n",
    "    X = curr_df.drop([T, target_feature], axis='columns')\n",
    "    y = curr_df[target_feature]\n",
    "    X_treated = treated.drop([T, target_feature], axis='columns')\n",
    "    y_treated = treated[target_feature]\n",
    "    X_control = control.drop([T, target_feature], axis='columns')\n",
    "    y_control = control[target_feature]\n",
    "    return X, y, X_treated, y_treated, X_control, y_control, T_"
   ]
  },
  {
   "cell_type": "code",
   "execution_count": 27,
   "metadata": {
    "id": "ONxtmdjCRZiq"
   },
   "outputs": [],
   "source": [
    "def clean(e, y, treatment):\n",
    "    remove = np.where(e == treatment)\n",
    "    e = np.delete(e, remove)\n",
    "    y = y.to_numpy()\n",
    "    y = np.delete(y, remove)\n",
    "    return e, y\n"
   ]
  },
  {
   "cell_type": "code",
   "execution_count": 28,
   "metadata": {
    "colab": {
     "base_uri": "https://localhost:8080/"
    },
    "id": "Rxyw46q6vTJ6",
    "outputId": "9d614b32-cd76-4cc7-8f5a-0a69f63d9dce"
   },
   "outputs": [
    {
     "name": "stdout",
     "output_type": "stream",
     "text": [
      "ATE: 0.0011\n"
     ]
    }
   ],
   "source": [
    "# IPW estimated ATE\n",
    "\n",
    "X, y, X_treated, y_treated, X_control, y_control, T_ = get_data(df, T)\n",
    "n = len(X)\n",
    "\n",
    "rf = RandomForestClassifier(max_depth=20, random_state=123)\n",
    "rf.fit(X, T_)\n",
    "\n",
    "e_t = rf.predict_proba(X_treated)[:, 1]\n",
    "e_c = rf.predict_proba(X_control)[:, 1]\n",
    "\n",
    "e_t, y_treated = clean(e_t, y_treated, 0)\n",
    "e_c, y_control = clean(e_c, y_control, 1)\n",
    "\n",
    "first = np.sum(y_treated / e_t) / n\n",
    "second = np.sum(y_control / (1 - e_c)) / n\n",
    "\n",
    "IPW_ATE = round(first - second , 4)\n",
    "\n",
    "print(\"ATE:\", IPW_ATE)\n",
    "ATE['ipw'] = IPW_ATE\n"
   ]
  },
  {
   "cell_type": "code",
   "execution_count": 29,
   "metadata": {
    "colab": {
     "base_uri": "https://localhost:8080/"
    },
    "id": "TuS7zo1kR9pW",
    "outputId": "b745ce9a-d7e5-4e53-d8c4-41cbac15bf1b"
   },
   "outputs": [
    {
     "name": "stdout",
     "output_type": "stream",
     "text": [
      "ATE: 0.0012\n"
     ]
    }
   ],
   "source": [
    "# IPW comparison - Decision Tree classifier\n",
    "\n",
    "from sklearn.tree import DecisionTreeClassifier\n",
    "\n",
    "X, y, X_treated, y_treated, X_control, y_control, T_ = get_data(df, T)\n",
    "n = len(X)\n",
    "\n",
    "dtc = DecisionTreeClassifier(random_state=123)\n",
    "dtc.fit(X, T_)\n",
    "\n",
    "e_t = dtc.predict_proba(X_treated)[:, 1]\n",
    "e_c = dtc.predict_proba(X_control)[:, 1]\n",
    "\n",
    "e_t, y_treated = clean(e_t, y_treated, 0)\n",
    "e_c, y_control = clean(e_c, y_control, 1)\n",
    "\n",
    "first = np.sum(y_treated / e_t) / n\n",
    "second = np.sum(y_control / (1 - e_c)) / n\n",
    "\n",
    "IPW_ATE = round(first - second , 4)\n",
    "\n",
    "print(\"ATE:\", IPW_ATE)\n",
    "ATE['ipw -> dtc'] = IPW_ATE\n"
   ]
  },
  {
   "cell_type": "code",
   "execution_count": 30,
   "metadata": {
    "colab": {
     "base_uri": "https://localhost:8080/"
    },
    "id": "NqzYdZRyg1qd",
    "outputId": "d3e6db8b-3951-488d-a55e-bac7411a4efa"
   },
   "outputs": [
    {
     "name": "stdout",
     "output_type": "stream",
     "text": [
      " Train error: 0.047242083758937695\n",
      " Test error: 0.06128702757916241\n",
      "ATE: -0.0014\n",
      "\n"
     ]
    }
   ],
   "source": [
    "# S-Learner estimated ATE\n",
    "\n",
    "X = df.copy()\n",
    "\n",
    "X = X.drop(target_feature, axis=1)\n",
    "y = df[target_feature]\n",
    "\n",
    "evaluate(X, y)\n",
    "\n",
    "dt = RandomForestClassifier(max_depth = 20, random_state=123)  \n",
    "dt.fit(X,y)\n",
    "\n",
    "X_treated = X.copy()\n",
    "X_treated[T] = 1\n",
    "y_1 = dt.predict(X_treated)\n",
    "\n",
    "X_control = X.copy()\n",
    "X_control[T] = 0\n",
    "y_0 = dt.predict(X_control)\n",
    "\n",
    "s_learner_ATE = round(np.mean(y_1 - y_0), 4)\n",
    "\n",
    "print(f'ATE: {s_learner_ATE}\\n')\n",
    "\n",
    "ATE['s-learner'] = s_learner_ATE"
   ]
  },
  {
   "cell_type": "code",
   "execution_count": 31,
   "metadata": {
    "colab": {
     "base_uri": "https://localhost:8080/"
    },
    "id": "QACpAOg6SBMI",
    "outputId": "665ad2cf-11d8-4ad8-a807-ddfc31628b0f"
   },
   "outputs": [
    {
     "name": "stdout",
     "output_type": "stream",
     "text": [
      "ATE: -0.0004\n",
      "\n"
     ]
    }
   ],
   "source": [
    "# S-Learner comparison - Decision Tree classifier\n",
    "\n",
    "X = df.copy()\n",
    "\n",
    "X = X.drop(target_feature, axis=1)\n",
    "y = df[target_feature]\n",
    "\n",
    "dtc = DecisionTreeClassifier(random_state=123)\n",
    "dtc.fit(X, y)\n",
    "\n",
    "X_treated = X.copy()\n",
    "X_treated[T] = 1\n",
    "y_1 = dtc.predict(X_treated)\n",
    "\n",
    "X_control = X.copy()\n",
    "X_control[T] = 0\n",
    "y_0 = dtc.predict(X_control)\n",
    "\n",
    "s_learner_ATE = round(np.mean(y_1 - y_0), 4)\n",
    "\n",
    "print(f'ATE: {s_learner_ATE}\\n')\n",
    "\n",
    "ATE['s-learner -> dtc'] = s_learner_ATE\n"
   ]
  },
  {
   "cell_type": "code",
   "execution_count": 32,
   "metadata": {
    "colab": {
     "base_uri": "https://localhost:8080/"
    },
    "id": "w3X0rPWZhBkR",
    "outputId": "576df256-4465-4323-9d58-4ca581597611"
   },
   "outputs": [
    {
     "name": "stdout",
     "output_type": "stream",
     "text": [
      "X_1 Train error: 0.06277056277056277\n",
      "X_1 Test error: 0.0603448275862069\n",
      "X_0 Train error: 0.04923255140457573\n",
      "X_0 Test error: 0.047453703703703706\n",
      "ATE: -0.001\n",
      "\n"
     ]
    }
   ],
   "source": [
    "# T-Learner estimated ATE\n",
    "\n",
    "\n",
    "X = df.copy()\n",
    "treated = df[df[T] == 1]\n",
    "\n",
    "# creating treated-model, control-model\n",
    "X_1 = treated.drop(target_feature, axis=1)\n",
    "y = treated[target_feature]\n",
    "\n",
    "evaluate(X_1, y, extra='X_1')\n",
    "dt1 = RandomForestClassifier(max_depth = 20, random_state=123)  \n",
    "dt1.fit(X_1, y)\n",
    "\n",
    "control = df[df[T] == 0]\n",
    "X_0 = control.drop(target_feature, axis=1)\n",
    "y = control[target_feature]\n",
    "evaluate(X_0, y, extra='X_0')\n",
    "dt0 = RandomForestClassifier(max_depth = 20, random_state=123)\n",
    "dt0.fit(X_0, y)\n",
    "\n",
    "# Evaluating ATE\n",
    "X = df.copy().drop(columns=[target_feature])\n",
    "y = df[target_feature]\n",
    "y_1 = dt1.predict(X)\n",
    "y_0 = dt0.predict(X)\n",
    "\n",
    "t_learner_ATE = round(np.mean(y_1 - y_0), 4)\n",
    "\n",
    "print(f'ATE: {t_learner_ATE}\\n')\n",
    "\n",
    "ATE['t-learner'] = t_learner_ATE"
   ]
  },
  {
   "cell_type": "code",
   "execution_count": 33,
   "metadata": {
    "colab": {
     "base_uri": "https://localhost:8080/"
    },
    "id": "M-jwAJazSHDv",
    "outputId": "c48734b3-8ea7-4c50-a2eb-0abe4e672d2c"
   },
   "outputs": [
    {
     "name": "stdout",
     "output_type": "stream",
     "text": [
      "ATE: -0.001\n",
      "\n"
     ]
    }
   ],
   "source": [
    "# T-Learner comparison - Decision Tree classifier\n",
    "\n",
    "X = df.copy()\n",
    "treated = df[df[T] == 1]\n",
    "\n",
    "# creating treated-model, control-model\n",
    "X_1 = treated.drop(target_feature, axis=1)\n",
    "y = treated[target_feature]\n",
    "\n",
    "dtc1 = DecisionTreeClassifier(random_state=123)\n",
    "dtc1.fit(X_1, y)\n",
    "\n",
    "control = df[df[T] == 0]\n",
    "X_0 = control.drop(target_feature, axis=1)\n",
    "y = control[target_feature]\n",
    "\n",
    "dtc0 = DecisionTreeClassifier(random_state=123)\n",
    "dtc0.fit(X_0, y)\n",
    "\n",
    "# Evaluating ATE\n",
    "X = df.copy().drop(columns=[target_feature])\n",
    "y = df[target_feature]\n",
    "y_1 = dtc1.predict(X)\n",
    "y_0 = dtc0.predict(X)\n",
    "\n",
    "t_learner_ATE = round(np.mean(y_1 - y_0), 4)\n",
    "\n",
    "print(f'ATE: {t_learner_ATE}\\n')\n",
    "\n",
    "ATE['t-learner -> dtc'] = t_learner_ATE\n"
   ]
  },
  {
   "cell_type": "code",
   "execution_count": 34,
   "metadata": {
    "colab": {
     "base_uri": "https://localhost:8080/"
    },
    "id": "hGI0PhRvVDjm",
    "outputId": "5b7bcea4-8568-4184-fc0b-2f37452b257d"
   },
   "outputs": [
    {
     "name": "stdout",
     "output_type": "stream",
     "text": [
      "ATE: 0.0239\n"
     ]
    }
   ],
   "source": [
    "# Matching estimated ATE\n",
    "\n",
    "X, y, X_treated, y_treated, X_control, y_control, T_ = get_data(df, T)\n",
    "\n",
    "knn = KNeighborsClassifier(1, metric=\"hamming\")\n",
    "knn.fit(X_control, y_control)\n",
    "pred = knn.predict(X_treated)\n",
    "\n",
    "knn2 =  KNeighborsClassifier(1, metric=\"hamming\")\n",
    "knn2.fit(X_treated, y_treated)\n",
    "pred2 = knn2.predict(X_control)\n",
    "\n",
    "ITE1 = y_treated - pred\n",
    "ITE2 = pred2 - y_control\n",
    "ITE = ITE1.append(ITE2)\n",
    "\n",
    "knn_ATE = round(np.mean(ITE), 4)\n",
    "\n",
    "\n",
    "print(\"ATE:\", knn_ATE)\n",
    "\n",
    "ATE['matching'] = knn_ATE\n",
    "\n"
   ]
  },
  {
   "cell_type": "code",
   "execution_count": 35,
   "metadata": {
    "id": "hiplqPInqVRI"
   },
   "outputs": [],
   "source": [
    "# backdoor adjustment estimated ATE\n",
    "\n",
    "ATE['backdoor_adj'] = []\n",
    "\n",
    "# suspected confounders which we're trying to apply backdoor adjustment on\n",
    "features_to_adjust = ['arms_category', 'race', 'threat_level']\n",
    "\n",
    "# selecting only the relevant features - possible confounders, T, Y\n",
    "X_sub = df.copy()[features_to_adjust + [T, target_feature]]\n",
    "\n",
    "# getting all the types of entries per feature to go over all the combinations\n",
    "values = []\n",
    "for feature in features_to_adjust:\n",
    "    available_values = list(X_sub[feature].unique())\n",
    "    values.append(available_values)\n",
    "\n",
    "# size of the entire dataset\n",
    "size = len(X_sub)\n",
    "\n",
    "probs = {}\n",
    "# checking all possible combinations of suspected confounders\n",
    "for combo in itertools.product(*values):\n",
    "    # getting a subset which corresponds to the current combination\n",
    "    combo_appearances = X_sub[(X_sub[features_to_adjust[0]] == combo[0]) &\n",
    "                              (X_sub[features_to_adjust[1]] == combo[1]) &\n",
    "                              (X_sub[features_to_adjust[2]] == combo[2])]\n",
    "    probs[combo] = {}\n",
    "    # probability of getting this combination of features\n",
    "    probs[combo]['x'] = len(combo_appearances) / size\n",
    "\n",
    "    # empty =  never occurs, irrelevant case\n",
    "    if combo_appearances.empty:\n",
    "        continue\n",
    "\n",
    "    # subset of the treament records\n",
    "    treated = combo_appearances[combo_appearances[T] == 1]\n",
    "    # probability to get treatment under the given combination\n",
    "    p_treated = len(treated) / len(combo_appearances)\n",
    "    probs[combo]['T/x'] = [1 - p_treated, p_treated]\n",
    "    \n",
    "    probs[combo]['Y/T,x'] = {}\n",
    "    # subset of the control records\n",
    "    control = combo_appearances[combo_appearances[T] == 0]\n",
    "    # subsets of treament records with outcome of 1\n",
    "    y_treated = treated[treated[target_feature] == 1]\n",
    "    # subsets of control records with outcome of 1\n",
    "    y_control = control[control[target_feature] == 1]\n",
    "\n",
    "    if not control.empty:\n",
    "        # probablity to get positive outcome in the control subset\n",
    "        p_y_control = len(y_control) / len(control)\n",
    "        probs[combo]['Y/T,x'][0] = [1 - p_y_control, p_y_control]\n",
    "    else:       # empty =  never occurs, irrelevant case\n",
    "        probs[combo]['Y/T,x'][0] = [0, 0]\n",
    "\n",
    "    if not treated.empty:\n",
    "        # probablity to get positive outcome in the treament subset\n",
    "        p_y_treated = len(y_treated) / len(treated)\n",
    "        probs[combo]['Y/T,x'][1] = [1 - p_y_treated, p_y_treated]\n",
    "    else:       # empty =  never occurs, irrelevant case\n",
    "        probs[combo]['Y/T,x'][1] = [0, 0]"
   ]
  },
  {
   "cell_type": "code",
   "execution_count": 36,
   "metadata": {
    "colab": {
     "base_uri": "https://localhost:8080/"
    },
    "id": "cREtt8q9DJx_",
    "outputId": "140dbc1d-f15f-412a-e145-568dc37d8072"
   },
   "outputs": [
    {
     "name": "stdout",
     "output_type": "stream",
     "text": [
      "ATE using backdoor adjustment: 0.0012\n",
      "\n"
     ]
    }
   ],
   "source": [
    "treated_out_sum = 0\n",
    "control_out_sum = 0\n",
    "\n",
    "for combo in probs.keys():\n",
    "    if probs[combo]['x'] != 0:\n",
    "        treated_out_sum += (1 * probs[combo]['Y/T,x'][1][1]) * probs[combo]['x']\n",
    "        control_out_sum += (1 * probs[combo]['Y/T,x'][0][1]) * probs[combo]['x']\n",
    "\n",
    "backdoor_adj_ATE = round(treated_out_sum - control_out_sum, 4)\n",
    "\n",
    "print(f'ATE using backdoor adjustment: {backdoor_adj_ATE}\\n')\n",
    "\n",
    "ATE['backdoor_adj'] = backdoor_adj_ATE"
   ]
  },
  {
   "cell_type": "code",
   "execution_count": 39,
   "metadata": {
    "colab": {
     "base_uri": "https://localhost:8080/"
    },
    "id": "Pqu3z_SRW-YJ",
    "outputId": "a82514e9-d827-46eb-a430-407dd3760546"
   },
   "outputs": [
    {
     "name": "stdout",
     "output_type": "stream",
     "text": [
      "Naive ATE:  0.0132\n",
      "\n",
      "*** Using random forest classifier: *** \n",
      "IPW estimated ATE:  0.0011\n",
      "S-Learner estimated ATE:  -0.0014\n",
      "T-Learner estimated ATE:  -0.001\n",
      "\n",
      "*** Using decision tree classifier: *** \n",
      "IPW estimated ATE:  0.0012\n",
      "S-Learner estimated ATE:  -0.0004\n",
      "T-Learner estimated ATE:  -0.001\n",
      "\n",
      "Matching estimated ATE:  0.0239\n",
      "backdoor adjustment estimated ATE:  0.0012\n"
     ]
    }
   ],
   "source": [
    "# print all ATE\n",
    "\n",
    "print(\"Naive ATE: \", round(ATE['naive'], 4))\n",
    "print()\n",
    "print(\"*** Using random forest classifier: *** \")\n",
    "print(\"IPW estimated ATE: \", ATE['ipw'])\n",
    "print(\"S-Learner estimated ATE: \", ATE['s-learner'])\n",
    "print(\"T-Learner estimated ATE: \", ATE['t-learner'])\n",
    "print()\n",
    "print(\"*** Using decision tree classifier: *** \")\n",
    "print(\"IPW estimated ATE: \", ATE['ipw -> dtc'])\n",
    "print(\"S-Learner estimated ATE: \", ATE['s-learner -> dtc'])\n",
    "print(\"T-Learner estimated ATE: \", ATE['t-learner -> dtc'])\n",
    "print()\n",
    "print(\"Matching estimated ATE: \", ATE['matching'])\n",
    "print(\"backdoor adjustment estimated ATE: \", ATE['backdoor_adj'])"
   ]
  },
  {
   "cell_type": "code",
   "execution_count": 37,
   "metadata": {
    "id": "G_qQyzjs82Qm"
   },
   "outputs": [],
   "source": []
  }
 ],
 "metadata": {
  "colab": {
   "collapsed_sections": [],
   "name": "project_207977166_315275511.ipynb",
   "provenance": []
  },
  "kernelspec": {
   "display_name": "Python 3 (ipykernel)",
   "language": "python",
   "name": "python3"
  },
  "language_info": {
   "codemirror_mode": {
    "name": "ipython",
    "version": 3
   },
   "file_extension": ".py",
   "mimetype": "text/x-python",
   "name": "python",
   "nbconvert_exporter": "python",
   "pygments_lexer": "ipython3",
   "version": "3.12.4"
  }
 },
 "nbformat": 4,
 "nbformat_minor": 4
}
